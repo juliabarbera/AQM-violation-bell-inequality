{
 "cells": [
  {
   "cell_type": "markdown",
   "id": "ae73c5bf-ffe5-4af9-aeed-973ba6914c0e",
   "metadata": {},
   "source": [
    "# VIOLATION OF BELL-CHSH INEQUALITY USING QISKIT\n"
   ]
  },
  {
   "cell_type": "markdown",
   "id": "61d12040-bfcc-4ad0-b392-3e0c16308212",
   "metadata": {},
   "source": [
    "#### *Author*: Juan Francisco Martín and Júlia Barberà, 6th October of 2022"
   ]
  },
  {
   "cell_type": "markdown",
   "id": "0957e81b-4194-45b5-bfe4-503519513f4f",
   "metadata": {},
   "source": [
    "This notebook uses the code from a qiskit tutorial that can be found at https://qiskit.org/textbook/ch-demos/chsh.html. The aim of this work is to demonstrate the violation of Bell-CHSH inequality using a quanutm circuit. Bell stated that any theory involving local hidden variables could be experimentally ruled out. In this section we are going to see how, and we will run a real experiment that demonstrates so. \n"
   ]
  },
  {
   "cell_type": "markdown",
   "id": "b60c8e4c-37d8-4b6f-9070-10e80d79cd9a",
   "metadata": {},
   "source": [
    "Take into account that qiskit uses Alice and Bob to explain the simulations. However, we will extrapolate the example to our paper where we are substituing Alice and Bob by two entangled interacting protons  (Sakai, H., et al. \"Spin correlations of strongly interacting massive fermion pairs as a test of Bell’s inequality.\" Physical review letters 97.15 (2006): 150405.)"
   ]
  },
  {
   "cell_type": "markdown",
   "id": "7774f320-62a3-4080-a980-eee89b9dbddf",
   "metadata": {},
   "source": [
    "## The CHSH inequality "
   ]
  },
  {
   "cell_type": "markdown",
   "id": "745399dc-d9d3-43f5-926d-92273af1080b",
   "metadata": {},
   "source": [
    "We have two entangled protons which have been created from the decay of the ${}^2$H $+{}^1$H $\\rightarrow$ ${}^2$He reaction. This beam is sent to a magnetic spectrometer that selects the protons that have a determinate momentum and the \"event-ready\" detector tracks the particles after they have exit the SMART. Finally, the EPOL polarimeter measures the directional asymmetries caused by the scattering, providing information regarding the spin-correlation between the protons. We can think as the axis of the measurements as the different basis in which the protons are measured. The following picture shows a representation of the polarimeters with the 4 detectors. "
   ]
  },
  {
   "cell_type": "markdown",
   "id": "9e7bb8b3-f355-49fa-a2a5-122e0b6c83a2",
   "metadata": {},
   "source": [
    "For arbitrary directions (basis) $\\vec{a}$, $\\vec{b}$, $\\vec{a'}$ and $\\vec{b'}$, the CHSH spin correlation function is bounded by 2 as\n",
    "<br>\n",
    "<center>$|C(\\vec{a},\\vec{b})- C(\\vec{a},\\vec{b'})|+|C(\\vec{a'},\\vec{b})+ C(\\vec{a'},\\vec{b'})|\\leq 2,$ \n",
    "<br>\n",
    "    \n",
    "as it has been demonstrated in the paper.\n",
    "    \n",
    "However, when we consider an entangled system instead we will see that this inequality is violated. "
   ]
  },
  {
   "cell_type": "code",
   "execution_count": 1,
   "id": "919a06c2-45f2-42fa-b8f0-cfa4f70a0b56",
   "metadata": {},
   "outputs": [
    {
     "name": "stderr",
     "output_type": "stream",
     "text": [
      "<frozen importlib._bootstrap>:219: RuntimeWarning: scipy._lib.messagestream.MessageStream size changed, may indicate binary incompatibility. Expected 56 from C header, got 64 from PyObject\n"
     ]
    }
   ],
   "source": [
    "#import qiskit tools\n",
    "import qiskit\n",
    "from qiskit import QuantumCircuit, ClassicalRegister, QuantumRegister, transpile, Aer, IBMQ\n",
    "from qiskit.tools.visualization import circuit_drawer\n",
    "from qiskit.tools.monitor import job_monitor, backend_monitor, backend_overview\n",
    "from qiskit.providers.aer import noise\n",
    "\n",
    "#import python stuff\n",
    "import matplotlib.pyplot as plt\n",
    "import numpy as np\n",
    "import time"
   ]
  },
  {
   "cell_type": "code",
   "execution_count": 2,
   "id": "5ba88a5f-cc67-44cb-9418-0f243a1c5042",
   "metadata": {},
   "outputs": [],
   "source": [
    "# Set devices, if using a real device\n",
    "IBMQ.load_account()\n",
    "provider = IBMQ.get_provider('ibm-q')\n",
    "quito = provider.get_backend('ibmq_quito')"
   ]
  },
  {
   "cell_type": "code",
   "execution_count": 3,
   "id": "95730c53-a8f7-46ee-9c88-ee2121f3630e",
   "metadata": {},
   "outputs": [],
   "source": [
    "sim = Aer.get_backend('aer_simulator')"
   ]
  },
  {
   "cell_type": "markdown",
   "id": "d7f91538-459c-4870-a13e-846ae71b0318",
   "metadata": {},
   "source": [
    "Suppose that the second proton uses the computational basis $Z$ and the $X$ basis for his two detectors($L_2$ and $R_2$). For the first proton, we will consider orthogonal bases but varying the angle of them between $0$ rad and $\\pi$ rad with respect the second proton's bases as Sakai et al. do in their paper.  "
   ]
  },
  {
   "cell_type": "markdown",
   "id": "48e439bf-2422-4dad-9e4c-ee228bb54f2f",
   "metadata": {},
   "source": [
    "Therefore, the quantum circuit is structured as follows. The first thing we need to implement are the maximally entangled states, which are given by the Bell states \n",
    "\n",
    "$|{\\phi^{\\pm}}\\rangle = \\frac{1}{\\sqrt{2}}(|{00}\\rangle\\pm|{11}\\rangle) \n",
    "\\quad\\text{and}\\quad\n",
    "|{\\psi^{\\pm}}\\rangle = \\frac{1}{\\sqrt{2}}(|{01}\\rangle\\pm|{10}\\rangle),\n",
    "$\n",
    "\n",
    "as we need the highest purity. We can construct them by using a $H$ and a $X$ quantum logic gates. Then, by implementing a $R_y(\\phi)$ gate we can simulate the measurement of that performs the first proton in its basis. Finally, we do the measurement in the computational basis ($|{0}\\rangle$ and $|{1}\\rangle$) or the $X$ basis for the second proton to obtain the expectation value for each angle. The circuits used to compute measurements which give us the expectation value of the spin-correlation function are shown in the figure below. "
   ]
  },
  {
   "cell_type": "code",
   "execution_count": 4,
   "id": "15ee6c89-8482-449d-b530-c340d8acd40f",
   "metadata": {},
   "outputs": [],
   "source": [
    "def make_chsh_circuit(phi_vec):\n",
    "    \"\"\"Return a list of QuantumCircuits for use in a CHSH experiemnt\n",
    "    (one for each value of theta in phi_vec)\n",
    "    \n",
    "        Args:\n",
    "            phi_vec (list): list of values of angles between the bases of proton1 and proton2\n",
    "        \n",
    "        Returns:\n",
    "            List[QuantumCircuit]: CHSH QuantumCircuits for each value of phi\n",
    "    \"\"\"\n",
    "    chsh_circuits = []\n",
    "    \n",
    "    for phi in phi_vec:\n",
    "        obs_vec = ['00', '01', '10', '11']\n",
    "        for el in obs_vec:\n",
    "            qc = QuantumCircuit(2,2)\n",
    "            # Creates Bell states \n",
    "            qc.h(0)\n",
    "            qc.cx(0, 1)\n",
    "            # Rotates the state of proton2 an angle theta \n",
    "            qc.ry(phi, 0) \n",
    "            for a in range(2):\n",
    "                if el[a] == '1':\n",
    "                    qc.h(a) \n",
    "            qc.measure(range(2),range(2))\n",
    "            chsh_circuits.append(qc)\n",
    "\n",
    "    return chsh_circuits  "
   ]
  },
  {
   "cell_type": "markdown",
   "id": "b00a76d6-6e6e-4328-b683-fa8c1fad4f12",
   "metadata": {},
   "source": [
    "We need to consider some kind of noise in the results which arises from the uncertainty principle. We can compare the results with an ideal case by computing the quantity $S_{QM}$ using quantum mechanics. Once chosen the corresponding measurement axes for both parties, each expectation value can be simply estimated by adding the counts with the appropriate sign. We are adding a plus sign for equal terms, while a minus sign for the different ones. "
   ]
  },
  {
   "cell_type": "code",
   "execution_count": 5,
   "id": "a53bc533-ed17-43f2-bf30-a2a4bdf81a64",
   "metadata": {},
   "outputs": [],
   "source": [
    "def compute_chsh_witness(counts):\n",
    "    \"\"\"Computes expectation values for the CHSH inequality, for each\n",
    "    angle (theta) between measurement axis.\n",
    "\n",
    "        Args: counts (list[dict]): dict of counts for each experiment\n",
    "              (4 per value of theta)\n",
    "\n",
    "        Returns:\n",
    "            Tuple(List, List): Tuple of lists with the two CHSH witnesses\n",
    "    \"\"\"\n",
    "    # Order is ZZ,ZX,XZ,XX\n",
    "    \n",
    "    CHSH2 = []\n",
    "    # Divide the list of dictionaries in sets of 4\n",
    "    for i in range(0, len(counts), 4):  \n",
    "        phi_dict = counts[i:i + 4]\n",
    "        zz = phi_dict[0]\n",
    "        zx = phi_dict[1]\n",
    "        xz = phi_dict[2]\n",
    "        xx = phi_dict[3]\n",
    "\n",
    "        no_shots = sum(xx[y] for y in xx)\n",
    "\n",
    "        chsh2 = 0\n",
    "\n",
    "        for element in zz:\n",
    "            parity = (-1)**(int(element[0])+int(element[1]))\n",
    "            chsh2+= parity*zz[element]\n",
    "\n",
    "        for element in zx:\n",
    "            parity = (-1)**(int(element[0])+int(element[1]))\n",
    "            chsh2-= parity*zx[element]\n",
    "\n",
    "        for element in xz:\n",
    "            parity = (-1)**(int(element[0])+int(element[1]))\n",
    "            chsh2+= parity*xz[element]\n",
    "\n",
    "        for element in xx:\n",
    "            parity = (-1)**(int(element[0])+int(element[1]))\n",
    "            chsh2+= parity*xx[element]\n",
    "\n",
    "        CHSH2.append(chsh2/no_shots)\n",
    "    \n",
    "    return CHSH2"
   ]
  },
  {
   "cell_type": "markdown",
   "id": "e0339b05-2962-4feb-bc8f-f111103b0dc0",
   "metadata": {},
   "source": [
    "Finally, we are going to split the interval $[0,134°]$ into $\\Delta\\phi =1°$ intervals and will build the corresponding set of CHSH circuits."
   ]
  },
  {
   "cell_type": "code",
   "execution_count": 22,
   "id": "2ec26f0a-1455-4588-9f80-87bc8bb87e79",
   "metadata": {},
   "outputs": [],
   "source": [
    "number_of_phi = 25\n",
    "phi_vec = np.linspace(0,np.pi/2,number_of_phi)\n",
    "my_chsh_circuits = make_chsh_circuit(phi_vec*2)"
   ]
  },
  {
   "cell_type": "code",
   "execution_count": 23,
   "id": "0a869f8c-b841-4330-9f64-e65f6aaa92d2",
   "metadata": {},
   "outputs": [
    {
     "name": "stdout",
     "output_type": "stream",
     "text": [
      "Job Status: job has successfully run\n",
      "534.1300773620605\n"
     ]
    }
   ],
   "source": [
    "# Execute and get counts\n",
    "result_ideal = sim.run(my_chsh_circuits).result()\n",
    "\n",
    "tic = time.time()\n",
    "transpiled_circuits = transpile(my_chsh_circuits, quito)\n",
    "job_real = quito.run(transpiled_circuits, shots=8192)\n",
    "job_monitor(job_real)\n",
    "result_real = job_real.result()\n",
    "toc = time.time()\n",
    "\n",
    "# Running time \n",
    "print(toc-tic)"
   ]
  },
  {
   "cell_type": "code",
   "execution_count": 12,
   "id": "338fb13f-6877-4e0a-be90-05d4fc839e34",
   "metadata": {},
   "outputs": [],
   "source": [
    "CHSH2_ideal = compute_chsh_witness(result_ideal.get_counts())\n",
    "CHSH2_real = compute_chsh_witness(result_real.get_counts())"
   ]
  },
  {
   "cell_type": "code",
   "execution_count": 15,
   "id": "5a53842e-747e-4d2c-a66c-dc753a87a8cb",
   "metadata": {},
   "outputs": [
    {
     "data": {
      "image/png": "[encoded data removed]",
      "text/plain": [
       "<Figure size 648x576 with 1 Axes>"
      ]
     },
     "metadata": {
      "needs_background": "light"
     },
     "output_type": "display_data"
    }
   ],
   "source": [
    "plt.figure(figsize=(9,8))\n",
    "plt.rcParams.update({'font.size': 22})\n",
    "#phi2 = np.linspace(0,np.pi/2,25)\n",
    "plt.plot(phi_vec,CHSH2_ideal, color ='r',label = 'CHSH2 ideal')\n",
    "plt.plot(phi_vec,CHSH2_real,color ='black',label = 'CHSH2 real', linestyle='dotted', lw = 4)\n",
    "\n",
    "plt.grid(which='major',axis='both')\n",
    "plt.rcParams.update({'font.size': 16})\n",
    "plt.legend()\n",
    "plt.axhline(y=2, color='blue', linestyle='-')\n",
    "plt.axhline(y=-2, color='blue', linestyle='-')\n",
    "plt.axhline(y=np.sqrt(2)*2, color='k', linestyle='-.')\n",
    "plt.axhline(y=-np.sqrt(2)*2, color='k', linestyle='-.')\n",
    "plt.xlabel('Φ')\n",
    "plt.ylabel('$S_{QM}$')\n",
    "plt.savefig(\"CHSH_inequality.png\")"
   ]
  },
  {
   "cell_type": "markdown",
   "id": "2cd9d0e5-5040-44bc-8118-702b3b5e7e4a",
   "metadata": {},
   "source": [
    "Here we compute the maximum value of the figure in order to know at which angle Bell-CHSH inequality is violated maximally.  "
   ]
  },
  {
   "cell_type": "code",
   "execution_count": 16,
   "id": "5b7d50cb-bfd7-4540-bb5d-a4fec28c7625",
   "metadata": {},
   "outputs": [
    {
     "name": "stdout",
     "output_type": "stream",
     "text": [
      "2.794921875\n",
      "2.364990234375\n"
     ]
    }
   ],
   "source": [
    "print(np.max(CHSH2_ideal))\n",
    "print(np.max(CHSH2_real))"
   ]
  },
  {
   "cell_type": "markdown",
   "id": "df8e430c-2074-40be-bf83-a4753d680fc1",
   "metadata": {},
   "source": [
    "The error respect the ideal value $2\\sqrt{2}$, is given in the following box. "
   ]
  },
  {
   "cell_type": "code",
   "execution_count": 12,
   "id": "4d8b51ea-4423-4466-a92e-d7d72f8a910e",
   "metadata": {},
   "outputs": [
    {
     "name": "stdout",
     "output_type": "stream",
     "text": [
      "-41.95198848291587\n"
     ]
    }
   ],
   "source": [
    "s = (np.abs(np.min(CHSH2_real)) - 2*np.sqrt(2))/(2*np.sqrt(2))*100\n",
    "print(s)"
   ]
  },
  {
   "cell_type": "markdown",
   "id": "609e30e0-43cf-4bd3-b0a3-0ef18e8eb327",
   "metadata": {},
   "source": [
    "The circuits used to compute measurements which give us the expectation\n",
    "value of the spin-correlation function are shown below. "
   ]
  },
  {
   "cell_type": "code",
   "execution_count": 13,
   "id": "8390b3d7-deda-41e7-be41-d2139450ff58",
   "metadata": {},
   "outputs": [
    {
     "data": {
      "image/png": "[encoded data removed]",
      "text/plain": [
       "<Figure size 327.252x204.68 with 1 Axes>"
      ]
     },
     "execution_count": 13,
     "metadata": {},
     "output_type": "execute_result"
    }
   ],
   "source": [
    "my_chsh_circuits[4].draw()"
   ]
  },
  {
   "cell_type": "code",
   "execution_count": 14,
   "id": "bbd9308e-f9df-455f-9a13-196c680bc5c5",
   "metadata": {},
   "outputs": [
    {
     "data": {
      "image/png": "[encoded data removed]",
      "text/plain": [
       "<Figure size 387.452x204.68 with 1 Axes>"
      ]
     },
     "execution_count": 14,
     "metadata": {},
     "output_type": "execute_result"
    }
   ],
   "source": [
    "my_chsh_circuits[5].draw()"
   ]
  },
  {
   "cell_type": "code",
   "execution_count": 15,
   "id": "c49b81b9-acc5-4e52-a1b9-ea9d0edf5b3b",
   "metadata": {},
   "outputs": [
    {
     "data": {
      "image/png": "[encoded data removed]",
      "text/plain": [
       "<Figure size 387.452x204.68 with 1 Axes>"
      ]
     },
     "execution_count": 15,
     "metadata": {},
     "output_type": "execute_result"
    }
   ],
   "source": [
    "my_chsh_circuits[6].draw()"
   ]
  },
  {
   "cell_type": "code",
   "execution_count": 16,
   "id": "f02abdb3-941e-4728-999f-13dc0e8e9716",
   "metadata": {},
   "outputs": [
    {
     "data": {
      "image/png": "[encoded data removed]",
      "text/plain": [
       "<Figure size 387.452x204.68 with 1 Axes>"
      ]
     },
     "execution_count": 16,
     "metadata": {},
     "output_type": "execute_result"
    }
   ],
   "source": [
    "my_chsh_circuits[7].draw()"
   ]
  },
  {
   "cell_type": "code",
   "execution_count": null,
   "id": "88968ab2-0c0f-4ac1-9dec-33fdb02051d3",
   "metadata": {},
   "outputs": [],
   "source": []
  },
  {
   "cell_type": "code",
   "execution_count": null,
   "id": "5176a84b-4d22-4c3c-8ac7-6a86f6e80e33",
   "metadata": {},
   "outputs": [],
   "source": []
  }
 ],
 "metadata": {
  "kernelspec": {
   "display_name": "Python 3 (ipykernel)",
   "language": "python",
   "name": "python3"
  },
  "language_info": {
   "codemirror_mode": {
    "name": "ipython",
    "version": 3
   },
   "file_extension": ".py",
   "mimetype": "text/x-python",
   "name": "python",
   "nbconvert_exporter": "python",
   "pygments_lexer": "ipython3",
   "version": "3.8.13"
  },
  "widgets": {
   "application/vnd.jupyter.widget-state+json": {
    "state": {},
    "version_major": 2,
    "version_minor": 0
   }
  }
 },
 "nbformat": 4,
 "nbformat_minor": 5
}
